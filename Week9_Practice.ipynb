{
 "cells": [
  {
   "cell_type": "markdown",
   "metadata": {},
   "source": [
    "# Practice for Topics in Week 9"
   ]
  },
  {
   "cell_type": "markdown",
   "metadata": {},
   "source": [
    "## While Loops"
   ]
  },
  {
   "cell_type": "markdown",
   "metadata": {},
   "source": [
    "`While` loops execute a particular block of code repeatedly until some condition is met. When using these loops, always remember to make sure you update variables in such a way that the termination condition will eventually be met. Otherwise, you may create an infinite loop!\n",
    "\n",
    "Below are several examples of `while` loops that use different sorts of conditions."
   ]
  },
  {
   "cell_type": "code",
   "execution_count": null,
   "metadata": {},
   "outputs": [],
   "source": [
    "num = 0\n",
    "\n",
    "while num < 10:\n",
    "    print(num)\n",
    "    num += 1"
   ]
  },
  {
   "cell_type": "code",
   "execution_count": null,
   "metadata": {},
   "outputs": [],
   "source": [
    "longStringOfXs = \"\"\n",
    "\n",
    "while len(longStringOfXs) < 30:\n",
    "    longStringOfXs += \"X\"\n",
    "    \n",
    "print(longStringOfXs)"
   ]
  },
  {
   "cell_type": "code",
   "execution_count": null,
   "metadata": {},
   "outputs": [],
   "source": [
    "someList = [1.0,\"tigers\",34,\"frogs\"]\n",
    "\n",
    "while someList.pop() != \"tigers\":\n",
    "    print(\"Still popping...\")\n",
    "    \n",
    "print(someList)"
   ]
  },
  {
   "cell_type": "markdown",
   "metadata": {},
   "source": [
    "What happened in the example above? What was the condition? How did the list change?"
   ]
  },
  {
   "cell_type": "code",
   "execution_count": null,
   "metadata": {},
   "outputs": [],
   "source": [
    "reps = 0\n",
    "\n",
    "while reps < 1000:\n",
    "    if reps % 100 == 0:\n",
    "        print(\"Completed %d reps.\" % reps)\n",
    "    reps += 1"
   ]
  },
  {
   "cell_type": "markdown",
   "metadata": {},
   "source": [
    "How was the `if` statement used in combination with the `while` loop above? Why might this be useful?"
   ]
  },
  {
   "cell_type": "code",
   "execution_count": null,
   "metadata": {},
   "outputs": [],
   "source": [
    "# Try writing your own while loop here"
   ]
  },
  {
   "cell_type": "markdown",
   "metadata": {},
   "source": [
    "## Dictionaries"
   ]
  },
  {
   "cell_type": "markdown",
   "metadata": {},
   "source": [
    "Dictionaries are useful Python objects for storing collections of information. For instance, let's say we're collecting specimens for a biological survey we're conducting and we want to associate the data we've collected for each individual with an ID number. We can use a dictionary to store, update, and retrieve these data in an organized way."
   ]
  },
  {
   "cell_type": "code",
   "execution_count": null,
   "metadata": {},
   "outputs": [],
   "source": [
    "# Create an empty dictionary to begin\n",
    "specimenData = {}\n",
    "\n",
    "# Here's one way to add an entry to a dictionary\n",
    "specimenData[\"W876\"] = [37.0,\"blue\",\"male\",9.3]\n",
    "\n",
    "# Here's a second way to add an entry to a dictionary\n",
    "specimenData.update({\"W364\":[34.5,\"red\",\"female\",8.7]})\n",
    "\n",
    "# Now, let's retrieve the data associated with individual W364\n",
    "specimenData[\"W364\"]"
   ]
  },
  {
   "cell_type": "code",
   "execution_count": null,
   "metadata": {},
   "outputs": [],
   "source": [
    "# Unfortunately, we now realize that we made a mistake while entering data for this individual.\n",
    "# The last number for its data entry should be 8.6. Let's update it.\n",
    "specimenData[\"W364\"][3] = 8.6\n",
    "\n",
    "# How does the statement above work? What is it doing?\n",
    "\n",
    "# Now let's check that our update worked\n",
    "specimenData[\"W364\"]"
   ]
  },
  {
   "cell_type": "code",
   "execution_count": null,
   "metadata": {},
   "outputs": [],
   "source": [
    "# We can also use the .get() method to retrieve information from a dictionary\n",
    "specimenData.get(\"W876\")"
   ]
  },
  {
   "cell_type": "code",
   "execution_count": null,
   "metadata": {},
   "outputs": [],
   "source": [
    "# Try creating your own dictionary and adding some key/value pairs."
   ]
  },
  {
   "cell_type": "markdown",
   "metadata": {},
   "source": [
    "## Importing Modules and Drawing Random Numbers"
   ]
  },
  {
   "cell_type": "markdown",
   "metadata": {},
   "source": [
    "We will frequently need to access functions and tools that are not automatically loaded when Python starts. By not loading all available modules every time it starts, Python can minimize the amount of memory it uses. Instead, it allows you to load the tools you need, when you need them.\n",
    "\n",
    "These extra tools are located in modules. Each module has a collection of objects and functions to accomplish a related set of tasks. Here, we'll try loading the `random` module, which includes functions to draw random numbers or values from a list. More information about the `random` module can be found in the official Python documentation here\n",
    "\n",
    "https://docs.python.org/3/library/random.html"
   ]
  },
  {
   "cell_type": "code",
   "execution_count": null,
   "metadata": {},
   "outputs": [],
   "source": [
    "# Let's import the random module\n",
    "import random\n",
    "\n",
    "# Now, let's try a simple function call to make sure it loaded properly.\n",
    "random.uniform(3.0,6.0)"
   ]
  },
  {
   "cell_type": "markdown",
   "metadata": {},
   "source": [
    "Note that every time we call a function from the random module, we need to start by typing \"random.\" to show that it's a function from the random module. In the example above, we used the `uniform` function to draw a uniformly distributed random number between 3.0 and 6.0."
   ]
  },
  {
   "cell_type": "code",
   "execution_count": null,
   "metadata": {},
   "outputs": [],
   "source": [
    "# Let's see if this function really draws numbers from across the whole range\n",
    "for _ in range(20):\n",
    "    print( random.uniform(3.0,6.0) )"
   ]
  },
  {
   "cell_type": "markdown",
   "metadata": {},
   "source": [
    "We can also use this module to randomly sample custom values from a list (for example, of colors)."
   ]
  },
  {
   "cell_type": "code",
   "execution_count": null,
   "metadata": {},
   "outputs": [],
   "source": [
    "colors = [\"purple\",\"red\",\"blue\",\"green\",\"orange\",\"brown\",\"black\"]\n",
    "\n",
    "random.choice(colors)"
   ]
  },
  {
   "cell_type": "markdown",
   "metadata": {},
   "source": [
    "In some cases, we don't really need ALL the functions in a module. In this case, we can specifically load those that we need by using the syntax: `from <module> import <function>`. If we do that, we don't have to put the module name in front of the function name to use it."
   ]
  },
  {
   "cell_type": "code",
   "execution_count": null,
   "metadata": {},
   "outputs": [],
   "source": [
    "from random import choice\n",
    "\n",
    "choice(colors)"
   ]
  },
  {
   "cell_type": "code",
   "execution_count": null,
   "metadata": {},
   "outputs": [],
   "source": [
    "# Try using random.random() to draw values between 0 and 1."
   ]
  },
  {
   "cell_type": "markdown",
   "metadata": {},
   "source": [
    "## File Input and Output"
   ]
  },
  {
   "cell_type": "markdown",
   "metadata": {},
   "source": [
    "So far, we've only written code where we defined the values of variables in the code itself. However, often, we'll read data in from an input file and we'll save the results in an output file. Here, we'll practice reading from and writing to files."
   ]
  },
  {
   "cell_type": "code",
   "execution_count": null,
   "metadata": {},
   "outputs": [],
   "source": [
    "# First, let's set the name of our input file.\n",
    "# These are data on coronaviruses cases as reported by the European CDC:\n",
    "# https://www.ecdc.europa.eu/en/novel-coronavirus-china\n",
    "# The columns are: (1) date, (2) country, (3) new coronavirus cases, (4) number of deaths, \n",
    "# (5) abbreviated geographic region, and (4) EU or non-EU country\n",
    "infileName = \"coronaData.txt\"\n",
    "\n",
    "# Now we're going to create a file object, that will allow us to read from the file\n",
    "dataIn = open(infileName,'r') # The 'r' indicates that we're _r_eading from the file\n",
    "\n",
    "# To start, we're going to read the first line of the file\n",
    "firstLine = dataIn.readline()\n",
    "\n",
    "firstLine"
   ]
  },
  {
   "cell_type": "code",
   "execution_count": null,
   "metadata": {},
   "outputs": [],
   "source": [
    "print(firstLine)"
   ]
  },
  {
   "cell_type": "markdown",
   "metadata": {},
   "source": [
    "What does the line look like when you just type the name of the variable? What about when you use `print()`?"
   ]
  },
  {
   "cell_type": "code",
   "execution_count": null,
   "metadata": {},
   "outputs": [],
   "source": [
    "# Closing the file object, so we can read again\n",
    "dataIn.close() \n",
    "\n",
    "# Opening the file object again\n",
    "dataIn = open(infileName,'r')\n",
    "\n",
    "# Python gives us an easy way to loop over all the lines in a file\n",
    "for line in dataIn:\n",
    "    print(line)"
   ]
  },
  {
   "cell_type": "markdown",
   "metadata": {},
   "source": [
    "Often, we'll want to extract just part of a line after we read them in. To do that, we can split up the string representing each line."
   ]
  },
  {
   "cell_type": "code",
   "execution_count": null,
   "metadata": {},
   "outputs": [],
   "source": [
    "# Closing the file object, so we can read again\n",
    "dataIn.close() \n",
    "\n",
    "# Opening the file object again\n",
    "dataIn = open(infileName,'r')\n",
    "\n",
    "firstLine = dataIn.readline()\n",
    "\n",
    "# Split the line up by tabs\n",
    "firstLine.split('\\t')"
   ]
  },
  {
   "cell_type": "markdown",
   "metadata": {},
   "source": [
    "Notice how the line was just a string before, but now it's a list. The original string was broken up according to the location of tab characters `\\t`.\n",
    "\n",
    "Let's use this to extract just the data on the new cases from each day."
   ]
  },
  {
   "cell_type": "code",
   "execution_count": null,
   "metadata": {},
   "outputs": [],
   "source": [
    "# Closing the file object, so we can read again\n",
    "dataIn.close() \n",
    "\n",
    "# Opening the file object again\n",
    "dataIn = open(infileName,'r')\n",
    "\n",
    "# New list to hold case numbers\n",
    "newCases = []\n",
    "\n",
    "# Extracting new case numbers from each line and appending them to the list\n",
    "for line in dataIn:\n",
    "    newCases.append( line.split('\\t')[2] )\n",
    "    \n",
    "# Put the values in chronological order\n",
    "newCases.reverse()\n",
    "    \n",
    "print(newCases)"
   ]
  },
  {
   "cell_type": "markdown",
   "metadata": {},
   "source": [
    "Now, let's write just these values to an output file."
   ]
  },
  {
   "cell_type": "code",
   "execution_count": null,
   "metadata": {},
   "outputs": [],
   "source": [
    "outfileName = \"newUSCases.txt\"\n",
    "\n",
    "# New file object to write to\n",
    "dataOut = open(outfileName,'w') # The 'w' indicates that we're _w_riting to this file\n",
    "\n",
    "# Loop over the case values and write each to the file\n",
    "for val in newCases:\n",
    "    dataOut.write(str(val) + \"\\n\") # We have to add a newline character if we want the values on separate lines\n",
    "\n",
    "# When writing to a file, you often need to close the file object before the content will be written to the file.\n",
    "dataOut.close()"
   ]
  }
 ],
 "metadata": {
  "kernelspec": {
   "display_name": "Python 3",
   "language": "python",
   "name": "python3"
  },
  "language_info": {
   "codemirror_mode": {
    "name": "ipython",
    "version": 3
   },
   "file_extension": ".py",
   "mimetype": "text/x-python",
   "name": "python",
   "nbconvert_exporter": "python",
   "pygments_lexer": "ipython3",
   "version": "3.7.6"
  }
 },
 "nbformat": 4,
 "nbformat_minor": 4
}
