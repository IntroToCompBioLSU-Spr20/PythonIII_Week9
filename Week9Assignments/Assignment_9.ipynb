{
 "cells": [
  {
   "cell_type": "markdown",
   "metadata": {},
   "source": [
    "# Simulation of DNA Sequence Evolution"
   ]
  },
  {
   "cell_type": "markdown",
   "metadata": {},
   "source": [
    "In this assignment, we're going to write code to simulate the evolution of a DNA sequence through time, with one change at a site at each time step.\n",
    "\n",
    "AACGT -> AAGGT -> ATGGT -> ATGGC -> ...\n",
    "\n",
    "To do this, we'll need some functions from both the `random` and `copy` modules."
   ]
  },
  {
   "cell_type": "code",
   "execution_count": 169,
   "metadata": {},
   "outputs": [],
   "source": [
    "# Import needed modules\n",
    "import random\n",
    "import copy"
   ]
  },
  {
   "cell_type": "markdown",
   "metadata": {},
   "source": [
    "First, we'll need to create a random starting sequence."
   ]
  },
  {
   "cell_type": "code",
   "execution_count": 170,
   "metadata": {},
   "outputs": [],
   "source": [
    "# The four nucleotides\n",
    "nucs = [\"A\",\"C\",\"G\",\"T\"]"
   ]
  },
  {
   "cell_type": "code",
   "execution_count": 171,
   "metadata": {},
   "outputs": [],
   "source": [
    "# Length of sequence\n",
    "seqLen = 20\n",
    "\n",
    "# Use a for loop and random.choice() to create a random DNA sequence (startSeq) with length seqLen\n",
    "# startSeq should be a list"
   ]
  },
  {
   "cell_type": "code",
   "execution_count": 172,
   "metadata": {},
   "outputs": [],
   "source": [
    "startSeq = []\n",
    "for _ in range(seqLen):\n",
    "    startSeq.append( random.choice(nucs) )"
   ]
  },
  {
   "cell_type": "code",
   "execution_count": 173,
   "metadata": {},
   "outputs": [
    {
     "name": "stdout",
     "output_type": "stream",
     "text": [
      "['C', 'A', 'A', 'T', 'T', 'T', 'G', 'T', 'C', 'A', 'T', 'T', 'T', 'A', 'T', 'T', 'C', 'A', 'G', 'A']\n"
     ]
    }
   ],
   "source": [
    "print(startSeq)"
   ]
  },
  {
   "cell_type": "code",
   "execution_count": 174,
   "metadata": {},
   "outputs": [],
   "source": [
    "# Set the number of time steps to simulate\n",
    "steps = 20"
   ]
  },
  {
   "cell_type": "code",
   "execution_count": 175,
   "metadata": {},
   "outputs": [],
   "source": [
    "# Create a list to hold the set of sequences from each time step in the simulation\n",
    "seqs = []\n",
    "seqs.append( startSeq )"
   ]
  },
  {
   "cell_type": "code",
   "execution_count": 176,
   "metadata": {},
   "outputs": [
    {
     "name": "stdout",
     "output_type": "stream",
     "text": [
      "11 : T -> G\n",
      "12 : T -> C\n",
      "12 : C -> G\n",
      "10 : T -> A\n",
      "10 : A -> G\n",
      "16 : C -> G\n",
      "14 : T -> A\n",
      "17 : A -> G\n",
      "13 : A -> G\n",
      "9 : A -> C\n",
      "3 : T -> G\n",
      "5 : T -> C\n",
      "7 : T -> C\n",
      "15 : T -> C\n",
      "6 : G -> A\n",
      "16 : G -> A\n",
      "14 : A -> C\n",
      "3 : G -> C\n",
      "2 : A -> C\n",
      "19 : A -> G\n"
     ]
    }
   ],
   "source": [
    "# Use a for loop to simulate changes to the sequence across time steps\n",
    "for i in range(steps):\n",
    "    mut = seqs[i].copy()  # generate a copy of the last sequence to mutate\n",
    "    pos = random.randrange(len(mut))  # pick a random position in the sequence to mutate\n",
    "    o_nuc = mut[pos]  # store the value of the original nucleotide at that position\n",
    "    \n",
    "    new_nucs = nucs.copy()  # create a list of nucleotides that does not contain the original nucleotide\n",
    "    new_nucs.remove(o_nuc)\n",
    "    n_nuc = random.choice(new_nucs)  # pick a new nucleotide\n",
    "    \n",
    "    mut[pos] = n_nuc  # change the value of the nucleotide \n",
    "    seqs.append(mut)  # add the new sequence to the list of sequences\n",
    "    \n",
    "    print(pos, \":\", o_nuc, \"->\", n_nuc)  # prints a log of mutations"
   ]
  },
  {
   "cell_type": "code",
   "execution_count": 177,
   "metadata": {},
   "outputs": [
    {
     "name": "stdout",
     "output_type": "stream",
     "text": [
      "0 C-A-A-T-T-T-G-T-C-A-T-T-T-A-T-T-C-A-G-A \n",
      "\n",
      "1 C-A-A-T-T-T-G-T-C-A-T-G-T-A-T-T-C-A-G-A \n",
      "\n",
      "2 C-A-A-T-T-T-G-T-C-A-T-G-C-A-T-T-C-A-G-A \n",
      "\n",
      "3 C-A-A-T-T-T-G-T-C-A-T-G-G-A-T-T-C-A-G-A \n",
      "\n",
      "4 C-A-A-T-T-T-G-T-C-A-A-G-G-A-T-T-C-A-G-A \n",
      "\n",
      "5 C-A-A-T-T-T-G-T-C-A-G-G-G-A-T-T-C-A-G-A \n",
      "\n",
      "6 C-A-A-T-T-T-G-T-C-A-G-G-G-A-T-T-G-A-G-A \n",
      "\n",
      "7 C-A-A-T-T-T-G-T-C-A-G-G-G-A-A-T-G-A-G-A \n",
      "\n",
      "8 C-A-A-T-T-T-G-T-C-A-G-G-G-A-A-T-G-G-G-A \n",
      "\n",
      "9 C-A-A-T-T-T-G-T-C-A-G-G-G-G-A-T-G-G-G-A \n",
      "\n",
      "10 C-A-A-T-T-T-G-T-C-C-G-G-G-G-A-T-G-G-G-A \n",
      "\n",
      "11 C-A-A-G-T-T-G-T-C-C-G-G-G-G-A-T-G-G-G-A \n",
      "\n",
      "12 C-A-A-G-T-C-G-T-C-C-G-G-G-G-A-T-G-G-G-A \n",
      "\n",
      "13 C-A-A-G-T-C-G-C-C-C-G-G-G-G-A-T-G-G-G-A \n",
      "\n",
      "14 C-A-A-G-T-C-G-C-C-C-G-G-G-G-A-C-G-G-G-A \n",
      "\n",
      "15 C-A-A-G-T-C-A-C-C-C-G-G-G-G-A-C-G-G-G-A \n",
      "\n",
      "16 C-A-A-G-T-C-A-C-C-C-G-G-G-G-A-C-A-G-G-A \n",
      "\n",
      "17 C-A-A-G-T-C-A-C-C-C-G-G-G-G-C-C-A-G-G-A \n",
      "\n",
      "18 C-A-A-C-T-C-A-C-C-C-G-G-G-G-C-C-A-G-G-A \n",
      "\n",
      "19 C-A-C-C-T-C-A-C-C-C-G-G-G-G-C-C-A-G-G-A \n",
      "\n"
     ]
    }
   ],
   "source": [
    "# Print all sequences -- if needed, you can uncomment the code below\n",
    "for i in range(steps):\n",
    "    print(i, '-'.join(seqs[i]), \"\\n\")"
   ]
  },
  {
   "cell_type": "code",
   "execution_count": 178,
   "metadata": {},
   "outputs": [
    {
     "name": "stdout",
     "output_type": "stream",
     "text": [
      "CAATTTGTCATTTATTCAGA\n",
      "CACCTCACCCGGGGCCAGGG\n",
      "Hamming distance between first and last sequences is: 15\n"
     ]
    }
   ],
   "source": [
    "# Print the starting sequence as a string\n",
    "startSeqStr = \"\"\n",
    "for n in startSeq:\n",
    "    startSeqStr += n\n",
    "print(startSeqStr)\n",
    "\n",
    "# Print the ending sequence as a string\n",
    "lastSeqStr = \"\"\n",
    "for n in seqs[len(seqs)-1]:\n",
    "    lastSeqStr += n\n",
    "print(lastSeqStr)\n",
    "\n",
    "# Print the Hamming distance between the starting and ending sequences\n",
    "dist = 0\n",
    "for i in range( len(startSeq) ):\n",
    "    endSeq = seqs[len(seqs)-1]\n",
    "    if startSeq[i] != endSeq[i]:\n",
    "        dist += 1\n",
    "\n",
    "print( \"Hamming distance between first and last sequences is: \" + str(dist) )"
   ]
  },
  {
   "cell_type": "markdown",
   "metadata": {},
   "source": [
    "The Hamming distance between two sequences is simply the number of nucleotide positions at which they differ. What is the Hamming distance between your starting and ending sequences? How does this value compare if you re-run the simulation several times, first with a small number of steps and next with a much larger number of steps?"
   ]
  },
  {
   "cell_type": "code",
   "execution_count": 181,
   "metadata": {
    "scrolled": true
   },
   "outputs": [
    {
     "name": "stdout",
     "output_type": "stream",
     "text": [
      "3 step: Hamming distance between first and last sequences is: 3\n",
      "CTTATGCAAGGACTGGCTGAGTCAGCACGAGCGCGCCTAATTTAGGATTTATTAGGAACA\n",
      "CTTATGCAAGGACTAGCTGAGTCAGCACGAGCGCGCCTAATTTAGGATTTATGAGGATCA\n",
      "\n",
      "30 steps: Hamming distance between first and last sequences is: 19\n",
      "CACCTGAAGACCCGTCACCGAGAGATTCCTCATCCACATCTGAGAAACACCCTCCAACTT\n",
      "AGCCTCAACTACTGACACCAAGAGCTTCCTCATGCACCCCTAAGAACCTCTCCCCATCTT\n",
      "\n",
      "300 steps: Hamming distance between first and last sequences is: 41\n",
      "CTGTCCGGGCGGCGCGGTTCTTTCTCTGAAAACGCAAGGGATACCAACTGCAAACGTATC\n",
      "ATATTTCGTGACTTGTCTAGAATCCTCTATTACGGGTGCGACATTGACTTTATAATCGAG\n"
     ]
    }
   ],
   "source": [
    "# Here I took all of the code from above and put it into methods to make it easier to access\n",
    "\n",
    "def genSeq(seqLen):\n",
    "    startSeq = []\n",
    "    for _ in range(seqLen):\n",
    "        startSeq.append( random.choice(nucs) )\n",
    "        \n",
    "    seqs = []\n",
    "    seqs.append(startSeq)\n",
    "    return seqs\n",
    "\n",
    "\n",
    "def mutate(seqs, steps):\n",
    "    nucs = [\"A\", \"G\", \"T\", \"C\"]\n",
    "    for i in range(steps):\n",
    "        mut = seqs[i].copy()\n",
    "        pos = random.randrange(len(mut))\n",
    "        o_nuc = mut[pos]\n",
    "\n",
    "        new_nucs = nucs.copy()\n",
    "        new_nucs.remove(o_nuc)\n",
    "        n_nuc = random.choice(new_nucs)\n",
    "\n",
    "        mut[pos] = n_nuc\n",
    "        seqs.append(mut)\n",
    "        \n",
    "    return seqs\n",
    "\n",
    "\n",
    "def compare_sequences(seqs):\n",
    "    # Print the starting sequence as a string\n",
    "    startSeqStr = \"\"\n",
    "    for n in seqs[0]:\n",
    "        startSeqStr += n\n",
    "    print(startSeqStr)\n",
    "\n",
    "    # Print the ending sequence as a string\n",
    "    lastSeqStr = \"\"\n",
    "    for n in seqs[len(seqs)-1]:\n",
    "        lastSeqStr += n\n",
    "    print(lastSeqStr)\n",
    "    \n",
    "\n",
    "def h_distance(seqs):\n",
    "    dist = 0\n",
    "    for i in range( len(seqs[0]) ):\n",
    "        endSeq = seqs[len(seqs)-1]\n",
    "        if seqs[0][i] != endSeq[i]:\n",
    "            dist += 1\n",
    "\n",
    "    return( \"Hamming distance between first and last sequences is: \" + str(dist) )\n",
    "\n",
    "# Create mutations with varying steps to test\n",
    "small_steps = mutate(genSeq(60), 3)\n",
    "medium_steps = mutate(genSeq(60), 30)\n",
    "large_steps = mutate(genSeq(60), 300)  \n",
    "\n",
    "print(\"3 step:\", h_distance(small_steps))\n",
    "compare_sequences(small_steps)\n",
    "\n",
    "print(\"\\n30 steps:\", h_distance(medium_steps))\n",
    "compare_sequences(medium_steps)\n",
    "\n",
    "print(\"\\n300 steps:\", h_distance(large_steps))\n",
    "compare_sequences(large_steps)\n"
   ]
  },
  {
   "cell_type": "markdown",
   "metadata": {},
   "source": [
    "Increasing the steps of mutation increases the Hamming distance between the first and last sequence. \n",
    "The Hamming distance is limited by the length of the sequence. "
   ]
  },
  {
   "cell_type": "code",
   "execution_count": 180,
   "metadata": {},
   "outputs": [
    {
     "name": "stdout",
     "output_type": "stream",
     "text": [
      "Start: PLCITLLLAALMGLTTFGDD\n",
      "End:   QPCASLMLGGLVGLTN_\n"
     ]
    }
   ],
   "source": [
    "# Here is a dictionary that translates between codons in a DNA sequence and amino acids\n",
    "gencode = {\n",
    "    'ATA':'I', 'ATC':'I', 'ATT':'I', 'ATG':'M',\n",
    "    'ACA':'T', 'ACC':'T', 'ACG':'T', 'ACT':'T',\n",
    "    'AAC':'N', 'AAT':'N', 'AAA':'K', 'AAG':'K',\n",
    "    'AGC':'S', 'AGT':'S', 'AGA':'R', 'AGG':'R',\n",
    "    'CTA':'L', 'CTC':'L', 'CTG':'L', 'CTT':'L',\n",
    "    'CCA':'P', 'CCC':'P', 'CCG':'P', 'CCT':'P',\n",
    "    'CAC':'H', 'CAT':'H', 'CAA':'Q', 'CAG':'Q',\n",
    "    'CGA':'R', 'CGC':'R', 'CGG':'R', 'CGT':'R',\n",
    "    'GTA':'V', 'GTC':'V', 'GTG':'V', 'GTT':'V',\n",
    "    'GCA':'A', 'GCC':'A', 'GCG':'A', 'GCT':'A',\n",
    "    'GAC':'D', 'GAT':'D', 'GAA':'E', 'GAG':'E',\n",
    "    'GGA':'G', 'GGC':'G', 'GGG':'G', 'GGT':'G',\n",
    "    'TCA':'S', 'TCC':'S', 'TCG':'S', 'TCT':'S',\n",
    "    'TTC':'F', 'TTT':'F', 'TTA':'L', 'TTG':'L',\n",
    "    'TAC':'Y', 'TAT':'Y', 'TAA':'_', 'TAG':'_',\n",
    "    'TGC':'C', 'TGT':'C', 'TGA':'_', 'TGG':'W'}\n",
    "\n",
    "# Translate your ending DNA sequence into an amino acid sequence\n",
    "# Make sure your sequence length is a multiple of 3!\n",
    "\n",
    "startSeq = medium_steps[0]  # using medium_steps sequence from the test above as a model\n",
    "endSeq = medium_steps[-1]\n",
    "\n",
    "def translate(seq):  # translates codon -> amino acid\n",
    "    peptide = \"\"\n",
    "    for i in range(0, len(seq), 3):  # for loop that iterates by 3's\n",
    "        codon = \"\"\n",
    "        codon += seq[i]\n",
    "        codon += seq[i+1]\n",
    "        codon += seq[i+2]\n",
    "        if gencode[codon] == \"_\":  # stop translation if a stop codon is reached\n",
    "            peptide += \"_\"\n",
    "            break\n",
    "        else:\n",
    "            peptide += gencode[codon]\n",
    "    return peptide\n",
    "\n",
    "print(\"Start:\", translate(startSeq))\n",
    "print(\"End:  \", translate(endSeq))"
   ]
  },
  {
   "cell_type": "code",
   "execution_count": null,
   "metadata": {},
   "outputs": [],
   "source": []
  }
 ],
 "metadata": {
  "kernelspec": {
   "display_name": "Python 3",
   "language": "python",
   "name": "python3"
  },
  "language_info": {
   "codemirror_mode": {
    "name": "ipython",
    "version": 3
   },
   "file_extension": ".py",
   "mimetype": "text/x-python",
   "name": "python",
   "nbconvert_exporter": "python",
   "pygments_lexer": "ipython3",
   "version": "3.8.1"
  }
 },
 "nbformat": 4,
 "nbformat_minor": 4
}
