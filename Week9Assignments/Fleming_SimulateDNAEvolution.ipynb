{
 "cells": [
  {
   "cell_type": "markdown",
   "metadata": {},
   "source": [
    "# Simulation of DNA Sequence Evolution"
   ]
  },
  {
   "cell_type": "markdown",
   "metadata": {},
   "source": [
    "In this assignment, we're going to write code to simulate the evolution of a DNA sequence through time, with one change at a site at each time step.\n",
    "\n",
    "AACGT -> AAGGT -> ATGGT -> ATGGC -> ...\n",
    "\n",
    "To do this, we'll need some functions from both the `random` and `copy` modules."
   ]
  },
  {
   "cell_type": "code",
   "execution_count": 2,
   "metadata": {},
   "outputs": [],
   "source": [
    "# Import needed modules\n",
    "import random\n",
    "import copy"
   ]
  },
  {
   "cell_type": "markdown",
   "metadata": {},
   "source": [
    "First, we'll need to create a random starting sequence."
   ]
  },
  {
   "cell_type": "code",
   "execution_count": 3,
   "metadata": {},
   "outputs": [],
   "source": [
    "# The four nucleotides\n",
    "nucs = [\"A\",\"C\",\"G\",\"T\"]"
   ]
  },
  {
   "cell_type": "code",
   "execution_count": 4,
   "metadata": {},
   "outputs": [],
   "source": [
    "# Length of sequence\n",
    "seqLen = 24\n",
    "\n",
    "# Use a for loop and random.choice() to create a random DNA sequence (startSeq) with length seqLen\n",
    "# startSeq should be a list "
   ]
  },
  {
   "cell_type": "code",
   "execution_count": 5,
   "metadata": {},
   "outputs": [],
   "source": [
    "startSeq = []\n",
    "for i in range(seqLen):\n",
    "    startSeq.append( random.choice(nucs) )"
   ]
  },
  {
   "cell_type": "code",
   "execution_count": 6,
   "metadata": {},
   "outputs": [],
   "source": [
    "# Set the number of time steps to simulate\n",
    "steps = 20"
   ]
  },
  {
   "cell_type": "code",
   "execution_count": 7,
   "metadata": {},
   "outputs": [],
   "source": [
    "# Create a list to hold the set of sequences from each time step in the simulation\n",
    "seqs = []\n",
    "seqs.append( startSeq )"
   ]
  },
  {
   "cell_type": "code",
   "execution_count": 12,
   "metadata": {},
   "outputs": [],
   "source": [
    "# Use a for loop to simulate changes to the sequence across time steps\n",
    "for seq in range(steps):\n",
    "    # Randomly pick an index in your sequence to change\n",
    "    index = random.choice(range(seqLen))\n",
    "    # Create a copy of the last sequence in seqs using copy.copy()\n",
    "    newSeq = copy.copy(seqs[-1])    \n",
    "    # Draw a new nucleotide and make sure that it's different than what you started with\n",
    "    # Hint: a while loop would be very useful here\n",
    "    NewNuc = random.choice(nucs)\n",
    "    while NewNuc == newSeq[index]:\n",
    "        NewNuc = random.choice(nucs)\n",
    "    # Update the randomly chosen position in the new sequence with the new nucleotide\n",
    "    newSeq[index] = NewNuc\n",
    "    # Add the updated sequence to the seqs list\n",
    "    seqs.append(newSeq)"
   ]
  },
  {
   "cell_type": "code",
   "execution_count": 13,
   "metadata": {},
   "outputs": [
    {
     "name": "stdout",
     "output_type": "stream",
     "text": [
      "['C', 'G', 'G', 'G', 'C', 'A', 'G', 'T', 'A', 'C', 'T', 'C', 'C', 'T', 'A', 'T', 'C', 'C', 'G', 'C', 'A', 'T', 'G', 'T']\n",
      "['C', 'G', 'G', 'C', 'C', 'A', 'G', 'T', 'A', 'C', 'T', 'C', 'C', 'T', 'A', 'T', 'C', 'C', 'G', 'C', 'A', 'T', 'G', 'T']\n",
      "['C', 'G', 'G', 'C', 'C', 'A', 'G', 'T', 'A', 'C', 'T', 'C', 'C', 'T', 'A', 'T', 'C', 'C', 'G', 'C', 'T', 'T', 'G', 'T']\n",
      "['C', 'G', 'G', 'C', 'C', 'A', 'G', 'T', 'A', 'C', 'T', 'C', 'C', 'T', 'A', 'T', 'C', 'C', 'G', 'C', 'T', 'A', 'G', 'T']\n",
      "['C', 'G', 'G', 'C', 'C', 'A', 'G', 'T', 'A', 'A', 'T', 'C', 'C', 'T', 'A', 'T', 'C', 'C', 'G', 'C', 'T', 'A', 'G', 'T']\n",
      "['C', 'G', 'G', 'C', 'C', 'A', 'G', 'T', 'A', 'A', 'T', 'C', 'C', 'T', 'A', 'T', 'C', 'C', 'G', 'C', 'T', 'T', 'G', 'T']\n",
      "['C', 'G', 'G', 'C', 'C', 'A', 'G', 'T', 'A', 'A', 'T', 'C', 'C', 'T', 'A', 'T', 'C', 'C', 'G', 'C', 'T', 'T', 'G', 'G']\n",
      "['C', 'G', 'G', 'C', 'C', 'A', 'G', 'T', 'A', 'A', 'T', 'C', 'C', 'T', 'A', 'T', 'C', 'C', 'A', 'C', 'T', 'T', 'G', 'G']\n",
      "['C', 'G', 'G', 'C', 'C', 'A', 'G', 'T', 'A', 'A', 'T', 'T', 'C', 'T', 'A', 'T', 'C', 'C', 'A', 'C', 'T', 'T', 'G', 'G']\n",
      "['C', 'G', 'G', 'C', 'C', 'A', 'G', 'T', 'A', 'A', 'G', 'T', 'C', 'T', 'A', 'T', 'C', 'C', 'A', 'C', 'T', 'T', 'G', 'G']\n",
      "['C', 'G', 'G', 'C', 'C', 'A', 'G', 'T', 'A', 'A', 'G', 'T', 'C', 'T', 'A', 'T', 'C', 'C', 'A', 'C', 'T', 'A', 'G', 'G']\n",
      "['C', 'G', 'G', 'C', 'C', 'A', 'G', 'T', 'A', 'G', 'G', 'T', 'C', 'T', 'A', 'T', 'C', 'C', 'A', 'C', 'T', 'A', 'G', 'G']\n",
      "['C', 'G', 'G', 'C', 'A', 'A', 'G', 'T', 'A', 'G', 'G', 'T', 'C', 'T', 'A', 'T', 'C', 'C', 'A', 'C', 'T', 'A', 'G', 'G']\n",
      "['C', 'G', 'G', 'C', 'A', 'A', 'T', 'T', 'A', 'G', 'G', 'T', 'C', 'T', 'A', 'T', 'C', 'C', 'A', 'C', 'T', 'A', 'G', 'G']\n",
      "['C', 'G', 'G', 'C', 'A', 'A', 'T', 'T', 'A', 'G', 'G', 'T', 'C', 'T', 'A', 'T', 'C', 'C', 'A', 'C', 'G', 'A', 'G', 'G']\n",
      "['C', 'G', 'G', 'C', 'A', 'A', 'T', 'T', 'A', 'G', 'G', 'T', 'C', 'T', 'A', 'T', 'C', 'C', 'A', 'C', 'T', 'A', 'G', 'G']\n",
      "['C', 'G', 'G', 'C', 'A', 'A', 'T', 'G', 'A', 'G', 'G', 'T', 'C', 'T', 'A', 'T', 'C', 'C', 'A', 'C', 'T', 'A', 'G', 'G']\n",
      "['C', 'G', 'G', 'C', 'A', 'A', 'T', 'G', 'A', 'G', 'G', 'T', 'C', 'T', 'A', 'T', 'C', 'C', 'A', 'C', 'T', 'A', 'G', 'T']\n",
      "['C', 'G', 'G', 'C', 'A', 'A', 'T', 'G', 'A', 'C', 'G', 'T', 'C', 'T', 'A', 'T', 'C', 'C', 'A', 'C', 'T', 'A', 'G', 'T']\n",
      "['T', 'G', 'G', 'C', 'A', 'A', 'T', 'G', 'A', 'C', 'G', 'T', 'C', 'T', 'A', 'T', 'C', 'C', 'A', 'C', 'T', 'A', 'G', 'T']\n"
     ]
    }
   ],
   "source": [
    "# Print all sequences -- if needed, you can uncomment the code below\n",
    "for i in range(steps):\n",
    "  print(seqs[i])"
   ]
  },
  {
   "cell_type": "code",
   "execution_count": 14,
   "metadata": {},
   "outputs": [
    {
     "name": "stdout",
     "output_type": "stream",
     "text": [
      "CGGGCAGTACTCCTATCCGCATGT\n",
      "TGGCAGTGACGTCTATCCACTAGT\n",
      "Hamming distance between first and last sequences is: 11\n"
     ]
    }
   ],
   "source": [
    "# Print the starting sequence as a string\n",
    "startSeqStr = \"\"\n",
    "for n in startSeq:\n",
    "    startSeqStr += n\n",
    "print(startSeqStr)\n",
    "\n",
    "# Print the ending sequence as a string\n",
    "lastSeqStr = \"\"\n",
    "for n in seqs[len(seqs)-1]:\n",
    "    lastSeqStr += n\n",
    "print(lastSeqStr)\n",
    "\n",
    "# Print the Hamming distance between the starting and ending sequences\n",
    "dist = 0\n",
    "for i in range( len(startSeq) ):\n",
    "    endSeq = seqs[len(seqs)-1]\n",
    "    if startSeq[i] != endSeq[i]:\n",
    "        dist += 1\n",
    "\n",
    "print( \"Hamming distance between first and last sequences is: \" + str(dist) )"
   ]
  },
  {
   "cell_type": "markdown",
   "metadata": {},
   "source": [
    "The Hamming distance between two sequences is simply the number of nucleotide positions at which they differ. What is the Hamming distance between your starting and ending sequences? How does this value compare if you re-run the simulation several times, first with a small number of steps and next with a much larger number of steps?"
   ]
  },
  {
   "cell_type": "code",
   "execution_count": 28,
   "metadata": {},
   "outputs": [
    {
     "name": "stdout",
     "output_type": "stream",
     "text": [
      "WQ_RLSTS\n"
     ]
    }
   ],
   "source": [
    "# Here is a dictionary that translates between codons in a DNA sequence and amino acids\n",
    "gencode = {\n",
    "    'ATA':'I', 'ATC':'I', 'ATT':'I', 'ATG':'M',\n",
    "    'ACA':'T', 'ACC':'T', 'ACG':'T', 'ACT':'T',\n",
    "    'AAC':'N', 'AAT':'N', 'AAA':'K', 'AAG':'K',\n",
    "    'AGC':'S', 'AGT':'S', 'AGA':'R', 'AGG':'R',\n",
    "    'CTA':'L', 'CTC':'L', 'CTG':'L', 'CTT':'L',\n",
    "    'CCA':'P', 'CCC':'P', 'CCG':'P', 'CCT':'P',\n",
    "    'CAC':'H', 'CAT':'H', 'CAA':'Q', 'CAG':'Q',\n",
    "    'CGA':'R', 'CGC':'R', 'CGG':'R', 'CGT':'R',\n",
    "    'GTA':'V', 'GTC':'V', 'GTG':'V', 'GTT':'V',\n",
    "    'GCA':'A', 'GCC':'A', 'GCG':'A', 'GCT':'A',\n",
    "    'GAC':'D', 'GAT':'D', 'GAA':'E', 'GAG':'E',\n",
    "    'GGA':'G', 'GGC':'G', 'GGG':'G', 'GGT':'G',\n",
    "    'TCA':'S', 'TCC':'S', 'TCG':'S', 'TCT':'S',\n",
    "    'TTC':'F', 'TTT':'F', 'TTA':'L', 'TTG':'L',\n",
    "    'TAC':'Y', 'TAT':'Y', 'TAA':'_', 'TAG':'_',\n",
    "    'TGC':'C', 'TGT':'C', 'TGA':'_', 'TGG':'W'}\n",
    "\n",
    "# Translate your ending DNA sequence into an amino acid sequence\n",
    "# Make sure your sequence length is a multiple of 3!\n",
    "\n",
    "protein =\"\" \n",
    "if len(lastSeqStr)%3 == 0: #if statement that checks if DNA is divisible by 3\n",
    "    for i in range(0,len(lastSeqStr),3): #for every 3 letters translate into an amino acid sequence\n",
    "        codon = lastSeqStr[i:i + 3] \n",
    "        protein += gencode[codon] \n",
    "print(protein) #print protein sequence"
   ]
  },
  {
   "cell_type": "code",
   "execution_count": null,
   "metadata": {},
   "outputs": [],
   "source": []
  }
 ],
 "metadata": {
  "kernelspec": {
   "display_name": "Python 3",
   "language": "python",
   "name": "python3"
  },
  "language_info": {
   "codemirror_mode": {
    "name": "ipython",
    "version": 3
   },
   "file_extension": ".py",
   "mimetype": "text/x-python",
   "name": "python",
   "nbconvert_exporter": "python",
   "pygments_lexer": "ipython3",
   "version": "3.6.4"
  }
 },
 "nbformat": 4,
 "nbformat_minor": 4
}
