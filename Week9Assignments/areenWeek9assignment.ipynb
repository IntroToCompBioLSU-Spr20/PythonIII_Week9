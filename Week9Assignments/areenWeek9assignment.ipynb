#Areen Sittichot

#Week 9 Assignment

#Simulation of DNA Sequence Evolution

#__________________________________________________

# Import needed modules
import random
import copy

First, we'll need to create a random starting sequence.
# The four nucleotides
nucs = ["A","C","G","T"]

# Length of sequence
seqLen = 24

# Use a for loop and random.choice() to create a random DNA sequence (startSeq) with length seqLen
# startSeq should be a list
startSeq = []
for i in range(seqLen):
    startSeq.append( random.choice(nucs) )

# Set the number of time steps to simulate
steps = 20

# Create a list to hold the set of sequences from each time step in the simulation
seqs = []
seqs.append( startSeq )

# Use a for loop to simulate changes to the sequence across time steps
for seq in range(steps):
    # Randomly pick an index in your sequence to change
    changeIndex = random.choice(range(seqLen))
    
    # Create a copy of the last sequence in seqs using copy.copy()
    newSeq= copy.copy(seqs[-1]) 
   
    # Draw a new nucleotide and make sure that it's different than what you started with
    # Hint: a while loop would be very useful here
    newNuc = random.choice(nucs)
    while newNuc == newSeq[changeIndex]:
        newNuc = random.choice(nucs)
    
    # Update the randomly chosen position in the new sequence with the new nucleotide
    newSeq[changeIndex] = newNuc
    
    # Add the updated sequence to the seqs list
    seqs.append(newSeq)


# Print all sequences 
for i in range(steps):
  print(seqs[i])
['T', 'C', 'G', 'T', 'T', 'A', 'T', 'A', 'T', 'T', 'T', 'C', 'T', 'G', 'A', 'C', 'A', 'A', 'G', 'G', 'C', 'C', 'C', 'A']
['T', 'C', 'G', 'T', 'T', 'A', 'T', 'A', 'T', 'T', 'T', 'C', 'T', 'G', 'A', 'C', 'A', 'A', 'A', 'G', 'C', 'C', 'C', 'A']
['T', 'C', 'G', 'T', 'T', 'A', 'T', 'G', 'T', 'T', 'T', 'C', 'T', 'G', 'A', 'C', 'A', 'A', 'A', 'G', 'C', 'C', 'C', 'A']
['T', 'C', 'G', 'T', 'T', 'A', 'T', 'G', 'T', 'T', 'T', 'C', 'T', 'G', 'A', 'C', 'A', 'A', 'A', 'A', 'C', 'C', 'C', 'A']
['T', 'C', 'G', 'T', 'T', 'A', 'T', 'G', 'T', 'T', 'T', 'C', 'T', 'G', 'A', 'C', 'A', 'A', 'A', 'A', 'C', 'C', 'C', 'T']
['T', 'C', 'G', 'T', 'T', 'A', 'T', 'G', 'T', 'T', 'T', 'C', 'T', 'G', 'A', 'A', 'A', 'A', 'A', 'A', 'C', 'C', 'C', 'T']
['T', 'C', 'G', 'T', 'T', 'A', 'T', 'G', 'T', 'T', 'T', 'C', 'T', 'G', 'A', 'A', 'G', 'A', 'A', 'A', 'C', 'C', 'C', 'T']
['T', 'C', 'G', 'T', 'T', 'A', 'T', 'G', 'T', 'T', 'T', 'C', 'T', 'T', 'A', 'A', 'G', 'A', 'A', 'A', 'C', 'C', 'C', 'T']
['T', 'C', 'G', 'T', 'T', 'A', 'T', 'G', 'T', 'T', 'T', 'C', 'A', 'T', 'A', 'A', 'G', 'A', 'A', 'A', 'C', 'C', 'C', 'T']
['T', 'C', 'G', 'T', 'T', 'A', 'T', 'A', 'T', 'T', 'T', 'C', 'A', 'T', 'A', 'A', 'G', 'A', 'A', 'A', 'C', 'C', 'C', 'T']
['T', 'G', 'G', 'T', 'T', 'A', 'T', 'A', 'T', 'T', 'T', 'C', 'A', 'T', 'A', 'A', 'G', 'A', 'A', 'A', 'C', 'C', 'C', 'T']
['T', 'G', 'G', 'T', 'T', 'A', 'T', 'A', 'T', 'T', 'T', 'T', 'A', 'T', 'A', 'A', 'G', 'A', 'A', 'A', 'C', 'C', 'C', 'T']
['T', 'G', 'G', 'T', 'T', 'A', 'T', 'A', 'T', 'T', 'T', 'T', 'A', 'T', 'A', 'A', 'G', 'G', 'A', 'A', 'C', 'C', 'C', 'T']
['T', 'G', 'G', 'C', 'T', 'A', 'T', 'A', 'T', 'T', 'T', 'T', 'A', 'T', 'A', 'A', 'G', 'G', 'A', 'A', 'C', 'C', 'C', 'T']
['T', 'G', 'G', 'C', 'T', 'A', 'T', 'A', 'T', 'T', 'T', 'T', 'A', 'T', 'A', 'A', 'T', 'G', 'A', 'A', 'C', 'C', 'C', 'T']
['T', 'G', 'G', 'C', 'T', 'A', 'T', 'C', 'T', 'T', 'T', 'T', 'A', 'T', 'A', 'A', 'T', 'G', 'A', 'A', 'C', 'C', 'C', 'T']
['T', 'G', 'G', 'C', 'T', 'A', 'T', 'C', 'T', 'T', 'T', 'T', 'A', 'T', 'A', 'A', 'T', 'G', 'A', 'A', 'C', 'A', 'C', 'T']
['T', 'G', 'C', 'C', 'T', 'A', 'T', 'C', 'T', 'T', 'T', 'T', 'A', 'T', 'A', 'A', 'T', 'G', 'A', 'A', 'C', 'A', 'C', 'T']
['T', 'G', 'C', 'C', 'T', 'A', 'T', 'C', 'T', 'T', 'T', 'T', 'A', 'T', 'A', 'A', 'T', 'G', 'A', 'T', 'C', 'A', 'C', 'T']
['T', 'G', 'C', 'C', 'T', 'A', 'T', 'C', 'T', 'T', 'T', 'T', 'A', 'G', 'A', 'A', 'T', 'G', 'A', 'T', 'C', 'A', 'C', 'T']

# Print the starting sequence as a string
startSeqStr = ""
for n in startSeq:
    startSeqStr += n
print(startSeqStr)

# Print the ending sequence as a string
lastSeqStr = ""
for n in seqs[len(seqs)-1]:
    lastSeqStr += n
print(lastSeqStr)

# Print the Hamming distance between the starting and ending sequences
dist = 0
for i in range( len(startSeq) ):
    endSeq = seqs[len(seqs)-1]
    if startSeq[i] != endSeq[i]:
        dist += 1

print( "Hamming distance between first and last sequences is: " + str(dist) )
TCGTTATATTTCTGACAAGGCCCA
TGCCTATCTTTTAGAATGATCTCT
Hamming distance between first and last sequences is: 13

#The Hamming distance between two sequences is simply the number of nucleotide positions at which they differ. What is the Hamming distance between your starting and ending sequences? How does this value compare if you re-run the simulation several times, first with a small number of steps and next with a much larger number of steps?

# Here is a dictionary that translates between codons in a DNA sequence and amino acids
gencode = {
    'ATA':'I', 'ATC':'I', 'ATT':'I', 'ATG':'M',
    'ACA':'T', 'ACC':'T', 'ACG':'T', 'ACT':'T',
    'AAC':'N', 'AAT':'N', 'AAA':'K', 'AAG':'K',
    'AGC':'S', 'AGT':'S', 'AGA':'R', 'AGG':'R',
    'CTA':'L', 'CTC':'L', 'CTG':'L', 'CTT':'L',
    'CCA':'P', 'CCC':'P', 'CCG':'P', 'CCT':'P',
    'CAC':'H', 'CAT':'H', 'CAA':'Q', 'CAG':'Q',
    'CGA':'R', 'CGC':'R', 'CGG':'R', 'CGT':'R',
    'GTA':'V', 'GTC':'V', 'GTG':'V', 'GTT':'V',
    'GCA':'A', 'GCC':'A', 'GCG':'A', 'GCT':'A',
    'GAC':'D', 'GAT':'D', 'GAA':'E', 'GAG':'E',
    'GGA':'G', 'GGC':'G', 'GGG':'G', 'GGT':'G',
    'TCA':'S', 'TCC':'S', 'TCG':'S', 'TCT':'S',
    'TTC':'F', 'TTT':'F', 'TTA':'L', 'TTG':'L',
    'TAC':'Y', 'TAT':'Y', 'TAA':'_', 'TAG':'_',
    'TGC':'C', 'TGT':'C', 'TGA':'_', 'TGG':'W'}

# Translate your ending DNA sequence into an amino acid sequence
aminoAcidSeq ="" 
# Make sure your sequence length is a multiple of 3!
if len(lastSeqStr)%3 == 0:
    for i in range(0,len(lastSeqStr),3): 
        codon = lastSeqStr[i:i + 3] 
        aminoAcidSeq += gencode[codon] 
print(aminoAcidSeq) 

CLSFRMIS
