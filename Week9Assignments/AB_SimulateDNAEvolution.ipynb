{
 "cells": [
  {
   "cell_type": "markdown",
   "metadata": {},
   "source": [
    "# Simulation of DNA Sequence Evolution"
   ]
  },
  {
   "cell_type": "markdown",
   "metadata": {},
   "source": [
    "In this assignment, we're going to write code to simulate the evolution of a DNA sequence through time, with one change at a site at each time step.\n",
    "\n",
    "AACGT -> AAGGT -> ATGGT -> ATGGC -> ...\n",
    "\n",
    "To do this, we'll need some functions from both the `random` and `copy` modules."
   ]
  },
  {
   "cell_type": "code",
   "execution_count": 57,
   "metadata": {},
   "outputs": [],
   "source": [
    "# Import needed modules\n",
    "import random\n",
    "import copy"
   ]
  },
  {
   "cell_type": "markdown",
   "metadata": {},
   "source": [
    "First, we'll need to create a random starting sequence."
   ]
  },
  {
   "cell_type": "code",
   "execution_count": 58,
   "metadata": {},
   "outputs": [],
   "source": [
    "# The four nucleotides\n",
    "nucs = [\"A\",\"C\",\"G\",\"T\"]"
   ]
  },
  {
   "cell_type": "code",
   "execution_count": 59,
   "metadata": {},
   "outputs": [],
   "source": [
    "# Length of sequence\n",
    "seqLen = 24"
   ]
  },
  {
   "cell_type": "code",
   "execution_count": 60,
   "metadata": {},
   "outputs": [],
   "source": [
    "startSeq = []\n",
    "for _ in range(seqLen):\n",
    "    startSeq.append( random.choice(nucs) )"
   ]
  },
  {
   "cell_type": "code",
   "execution_count": 61,
   "metadata": {},
   "outputs": [],
   "source": [
    "# Set the number of time steps to simulate\n",
    "steps = 20"
   ]
  },
  {
   "cell_type": "code",
   "execution_count": 62,
   "metadata": {},
   "outputs": [],
   "source": [
    "# Create a list to hold the set of sequences from each time step in the simulation\n",
    "seqs = []\n",
    "seqs.append( startSeq )"
   ]
  },
  {
   "cell_type": "code",
   "execution_count": 63,
   "metadata": {},
   "outputs": [],
   "source": [
    "# Use a for loop to simulate changes to the sequence across time steps\n",
    "for x in range(steps):\n",
    "    index=random.randint(0,23)# Randomly pick an index in your sequence to change\n",
    "    newseq=copy.copy(seqs[-1])# Create a copy of the last sequence in seqs using copy.copy()\n",
    "    nuc=newseq[index]#Obtains the letter that will be changed in the original sequence that corresponds to the index\n",
    "    newnuc=random.choice(nucs)#this draws a new nucleotide from the nucs list\n",
    "    while newnuc==nuc:# If new letter is same as what started with, then re-run it and get a different letter.\n",
    "        newnuc=random.choice(nucs)\n",
    "    newseq[index]=newnuc #change the letter with the specific index to the newly generated letter\n",
    "    seqs.append(newseq) #add the new sequence to the seqs list"
   ]
  },
  {
   "cell_type": "code",
   "execution_count": 64,
   "metadata": {},
   "outputs": [
    {
     "name": "stdout",
     "output_type": "stream",
     "text": [
      "['A', 'T', 'C', 'G', 'T', 'A', 'A', 'A', 'T', 'A', 'A', 'G', 'T', 'G', 'C', 'C', 'G', 'A', 'T', 'T', 'A', 'C', 'G', 'G']\n",
      "['A', 'T', 'C', 'G', 'T', 'A', 'A', 'A', 'T', 'A', 'A', 'G', 'T', 'G', 'C', 'C', 'G', 'T', 'T', 'T', 'A', 'C', 'G', 'G']\n",
      "['A', 'C', 'C', 'G', 'T', 'A', 'A', 'A', 'T', 'A', 'A', 'G', 'T', 'G', 'C', 'C', 'G', 'T', 'T', 'T', 'A', 'C', 'G', 'G']\n",
      "['A', 'C', 'C', 'G', 'T', 'A', 'A', 'A', 'T', 'A', 'G', 'G', 'T', 'G', 'C', 'C', 'G', 'T', 'T', 'T', 'A', 'C', 'G', 'G']\n",
      "['A', 'C', 'C', 'G', 'T', 'A', 'A', 'A', 'T', 'A', 'G', 'G', 'T', 'G', 'C', 'T', 'G', 'T', 'T', 'T', 'A', 'C', 'G', 'G']\n",
      "['A', 'C', 'C', 'G', 'T', 'A', 'A', 'A', 'T', 'A', 'G', 'G', 'G', 'G', 'C', 'T', 'G', 'T', 'T', 'T', 'A', 'C', 'G', 'G']\n",
      "['A', 'C', 'C', 'G', 'T', 'A', 'A', 'A', 'T', 'A', 'G', 'G', 'G', 'G', 'C', 'T', 'G', 'T', 'T', 'T', 'A', 'C', 'G', 'C']\n",
      "['A', 'C', 'C', 'G', 'T', 'A', 'A', 'A', 'T', 'A', 'G', 'G', 'G', 'G', 'C', 'T', 'G', 'A', 'T', 'T', 'A', 'C', 'G', 'C']\n",
      "['A', 'C', 'C', 'G', 'T', 'A', 'A', 'A', 'T', 'A', 'G', 'G', 'G', 'G', 'C', 'T', 'G', 'A', 'T', 'T', 'G', 'C', 'G', 'C']\n",
      "['A', 'T', 'C', 'G', 'T', 'A', 'A', 'A', 'T', 'A', 'G', 'G', 'G', 'G', 'C', 'T', 'G', 'A', 'T', 'T', 'G', 'C', 'G', 'C']\n",
      "['A', 'T', 'G', 'G', 'T', 'A', 'A', 'A', 'T', 'A', 'G', 'G', 'G', 'G', 'C', 'T', 'G', 'A', 'T', 'T', 'G', 'C', 'G', 'C']\n",
      "['A', 'T', 'A', 'G', 'T', 'A', 'A', 'A', 'T', 'A', 'G', 'G', 'G', 'G', 'C', 'T', 'G', 'A', 'T', 'T', 'G', 'C', 'G', 'C']\n",
      "['A', 'T', 'A', 'G', 'T', 'A', 'A', 'A', 'A', 'A', 'G', 'G', 'G', 'G', 'C', 'T', 'G', 'A', 'T', 'T', 'G', 'C', 'G', 'C']\n",
      "['A', 'T', 'A', 'G', 'T', 'A', 'A', 'A', 'A', 'A', 'G', 'G', 'G', 'G', 'C', 'T', 'G', 'A', 'T', 'T', 'G', 'C', 'G', 'G']\n",
      "['A', 'T', 'A', 'G', 'T', 'A', 'A', 'A', 'A', 'A', 'G', 'G', 'G', 'G', 'C', 'T', 'G', 'A', 'T', 'T', 'G', 'A', 'G', 'G']\n",
      "['A', 'T', 'A', 'G', 'T', 'A', 'A', 'A', 'A', 'A', 'G', 'G', 'G', 'G', 'C', 'T', 'G', 'A', 'T', 'T', 'G', 'T', 'G', 'G']\n",
      "['C', 'T', 'A', 'G', 'T', 'A', 'A', 'A', 'A', 'A', 'G', 'G', 'G', 'G', 'C', 'T', 'G', 'A', 'T', 'T', 'G', 'T', 'G', 'G']\n",
      "['C', 'T', 'A', 'G', 'T', 'A', 'A', 'A', 'A', 'A', 'G', 'G', 'G', 'G', 'G', 'T', 'G', 'A', 'T', 'T', 'G', 'T', 'G', 'G']\n",
      "['C', 'T', 'A', 'G', 'T', 'G', 'A', 'A', 'A', 'A', 'G', 'G', 'G', 'G', 'G', 'T', 'G', 'A', 'T', 'T', 'G', 'T', 'G', 'G']\n",
      "['C', 'T', 'A', 'G', 'T', 'G', 'A', 'A', 'A', 'A', 'G', 'G', 'G', 'G', 'G', 'T', 'G', 'A', 'T', 'G', 'G', 'T', 'G', 'G']\n"
     ]
    }
   ],
   "source": [
    "# Print all sequences -- if needed, you can uncomment the code below\n",
    "for i in range(steps):\n",
    "    print(seqs[i])"
   ]
  },
  {
   "cell_type": "code",
   "execution_count": 65,
   "metadata": {},
   "outputs": [
    {
     "name": "stdout",
     "output_type": "stream",
     "text": [
      "ATCGTAAATAAGTGCCGATTACGG\n",
      "CTAGTGAAAAGGGGGTGAAGGTGG\n",
      "Hamming distance between first and last sequences is: 12\n"
     ]
    }
   ],
   "source": [
    "# Print the starting sequence as a string\n",
    "startSeqStr = \"\"\n",
    "for n in startSeq:\n",
    "    startSeqStr += n\n",
    "print(startSeqStr)\n",
    "\n",
    "# Print the ending sequence as a string\n",
    "lastSeqStr = \"\"\n",
    "for n in seqs[-1]:\n",
    "    lastSeqStr += n\n",
    "print(lastSeqStr)\n",
    "\n",
    "# Print the Hamming distance between the starting and ending sequences\n",
    "dist = 0\n",
    "for i in range( len(startSeq) ):\n",
    "    endSeq = seqs[-1]\n",
    "    if startSeq[i] != endSeq[i]:\n",
    "        dist += 1\n",
    "\n",
    "print( \"Hamming distance between first and last sequences is: \" + str(dist) )"
   ]
  },
  {
   "cell_type": "markdown",
   "metadata": {},
   "source": [
    "The Hamming distance between two sequences is simply the number of nucleotide positions at which they differ. What is the Hamming distance between your starting and ending sequences? How does this value compare if you re-run the simulation several times, first with a small number of steps and next with a much larger number of steps?\n",
    "\n",
    "The Hamming distance is initially 11, with 20 iterations. Instead when the simulation only has 5 iterations the Hamming Distance is 3, and when the number of iterations is 60, the Hamming Distance is 21. This reflects that when there are more steps, more mutations will occur."
   ]
  },
  {
   "cell_type": "code",
   "execution_count": 66,
   "metadata": {},
   "outputs": [
    {
     "name": "stdout",
     "output_type": "stream",
     "text": [
      "LVKRG_RW\n"
     ]
    }
   ],
   "source": [
    "# Here is a dictionary that translates between codons in a DNA sequence and amino acids\n",
    "gencode = {\n",
    "    'ATA':'I', 'ATC':'I', 'ATT':'I', 'ATG':'M',\n",
    "    'ACA':'T', 'ACC':'T', 'ACG':'T', 'ACT':'T',\n",
    "    'AAC':'N', 'AAT':'N', 'AAA':'K', 'AAG':'K',\n",
    "    'AGC':'S', 'AGT':'S', 'AGA':'R', 'AGG':'R',\n",
    "    'CTA':'L', 'CTC':'L', 'CTG':'L', 'CTT':'L',\n",
    "    'CCA':'P', 'CCC':'P', 'CCG':'P', 'CCT':'P',\n",
    "    'CAC':'H', 'CAT':'H', 'CAA':'Q', 'CAG':'Q',\n",
    "    'CGA':'R', 'CGC':'R', 'CGG':'R', 'CGT':'R',\n",
    "    'GTA':'V', 'GTC':'V', 'GTG':'V', 'GTT':'V',\n",
    "    'GCA':'A', 'GCC':'A', 'GCG':'A', 'GCT':'A',\n",
    "    'GAC':'D', 'GAT':'D', 'GAA':'E', 'GAG':'E',\n",
    "    'GGA':'G', 'GGC':'G', 'GGG':'G', 'GGT':'G',\n",
    "    'TCA':'S', 'TCC':'S', 'TCG':'S', 'TCT':'S',\n",
    "    'TTC':'F', 'TTT':'F', 'TTA':'L', 'TTG':'L',\n",
    "    'TAC':'Y', 'TAT':'Y', 'TAA':'_', 'TAG':'_',\n",
    "    'TGC':'C', 'TGT':'C', 'TGA':'_', 'TGG':'W'}\n",
    "\n",
    "protein= '' #defines an empty string to put the amino acid sequence\n",
    "if len(lastSeqStr)%3 == 0: #if the last sequence (as a string) is divisible by 3 with no remainder\n",
    "    for x in range(0,len(lastSeqStr),3): #then for each of the nucleotides from the first to the last with interval of 3\n",
    "        codon=lastSeqStr[x:x + 3] #the codon is defined in multiples of three from the first to the last nucleotide\n",
    "        protein += gencode[codon] #catenate the codon from the gencode table to the protein string\n",
    "print (protein) #print the string that is protein"
   ]
  }
 ],
 "metadata": {
  "kernelspec": {
   "display_name": "Python 3",
   "language": "python",
   "name": "python3"
  },
  "language_info": {
   "codemirror_mode": {
    "name": "ipython",
    "version": 3
   },
   "file_extension": ".py",
   "mimetype": "text/x-python",
   "name": "python",
   "nbconvert_exporter": "python",
   "pygments_lexer": "ipython3",
   "version": "3.6.4"
  }
 },
 "nbformat": 4,
 "nbformat_minor": 4
}
