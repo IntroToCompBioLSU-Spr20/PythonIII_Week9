{
 "cells": [
  {
   "cell_type": "markdown",
   "metadata": {},
   "source": [
    "# Simulation of DNA Sequence Evolution"
   ]
  },
  {
   "cell_type": "markdown",
   "metadata": {},
   "source": [
    "#Giovani Hernandez Canchola\n",
    "#Ass 9"
   ]
  },
  {
   "cell_type": "markdown",
   "metadata": {},
   "source": [
    "In this assignment, we're going to write code to simulate the evolution of a DNA sequence through time, with one change at a site at each time step.\n",
    "\n",
    "AACGT -> AAGGT -> ATGGT -> ATGGC -> ...\n",
    "\n",
    "To do this, we'll need some functions from both the `random` and `copy` modules."
   ]
  },
  {
   "cell_type": "code",
   "execution_count": null,
   "metadata": {},
   "outputs": [],
   "source": [
    "# Import needed modules\n",
    "import random\n",
    "import copy"
   ]
  },
  {
   "cell_type": "code",
   "execution_count": null,
   "metadata": {},
   "outputs": [],
   "source": [
    "#The four nucleotides\n",
    "nucs = [\"A\",\"C\",\"G\",\"T\"]\n",
    "\n",
    "#Length of sequence\n",
    "seqLen = 24\n",
    "\n",
    "# Use a for loop and random.choice() to create a random DNA sequence (startSeq) with length seqLen\n",
    "# startSeq should be a list\n",
    "startSeq = []\n",
    "for _ in range(0,seqLen):\n",
    "    startSeq.append(random.choice(nucs))"
   ]
  },
  {
   "cell_type": "code",
   "execution_count": null,
   "metadata": {},
   "outputs": [],
   "source": [
    "# Set the number of time steps to simulate\n",
    "steps = 20\n",
    "\n",
    "# Create a list to hold the set of sequences from each time step in the simulation\n",
    "seqs = []\n",
    "seqs.append(startSeq)"
   ]
  },
  {
   "cell_type": "code",
   "execution_count": null,
   "metadata": {
    "scrolled": true
   },
   "outputs": [],
   "source": [
    "# Use a for loop to simulate changes to the sequence across time steps\n",
    "for _ in range(0,steps):\n",
    "    # Randomly pick an index in your sequence to change\n",
    "    ranInd=random.randint(0,seqLen)\n",
    "    ranPos = ranInd - 1\n",
    "    \n",
    "    # Create a copy of the last sequence in seqs using copy.copy()\n",
    "    lastSeq=copy.copy(seqs[-1])\n",
    "    \n",
    "    # Draw a new nucleotide and make sure that it's different than what you started with\n",
    "    # Hint: a while loop would be very useful here\n",
    "    newNuc=(random.choice(nucs))\n",
    "    while lastSeq[ranPos] == newNuc:\n",
    "        newNuc=(random.choice(nucs)) \n",
    "    \n",
    "    # Update the randomly chosen position in the new sequence with the new nucleotide\n",
    "    lastSeq[ranPos]=newNuc\n",
    "    \n",
    "    # Add the updated sequence to the seqs list\n",
    "    seqs.append(lastSeq)"
   ]
  },
  {
   "cell_type": "code",
   "execution_count": null,
   "metadata": {
    "scrolled": false
   },
   "outputs": [],
   "source": [
    "# Print all sequences -- if needed, you can uncomment the code below\n",
    "for i in range(0,steps+1):\n",
    "    print(seqs[i])"
   ]
  },
  {
   "cell_type": "code",
   "execution_count": null,
   "metadata": {},
   "outputs": [],
   "source": [
    "# Print the starting sequence as a string\n",
    "startSeqStr = \"\"\n",
    "for n in startSeq:\n",
    "    startSeqStr += n\n",
    "print(startSeqStr)\n",
    "\n",
    "# Print the ending sequence as a string\n",
    "lastSeqStr = \"\"\n",
    "for n in seqs[len(seqs)-1]:\n",
    "    lastSeqStr += n\n",
    "print(lastSeqStr)\n",
    "\n",
    "# Print the Hamming distance between the starting and ending sequences\n",
    "dist = 0\n",
    "for i in range( len(startSeq) ):\n",
    "    endSeq = seqs[len(seqs)-1]\n",
    "    if startSeq[i] != endSeq[i]:\n",
    "        dist += 1\n",
    "\n",
    "print( \"Hamming distance between first and last sequences is: \" + str(dist) )"
   ]
  },
  {
   "cell_type": "markdown",
   "metadata": {},
   "source": [
    "The Hamming distance between two sequences is simply the number of nucleotide positions at which they differ. What is the Hamming distance between your starting and ending sequences? How does this value compare if you re-run the simulation several times, first with a small number of steps and next with a much larger number of steps?"
   ]
  },
  {
   "cell_type": "markdown",
   "metadata": {},
   "source": [
    "-The first time I ran this script (steps=20) the Hamming distance was 10.\n",
    "\n",
    "-If there are more steps, the Hamming distance between first and last sequences will be bigger. \n",
    "If the number of steps is really larger, we could see same nucleotide at certain positions. Nevertheless, it doesn't mean that that nucleotide never changed (possible it changed several times and became the original nucleotide again). "
   ]
  },
  {
   "cell_type": "code",
   "execution_count": null,
   "metadata": {},
   "outputs": [],
   "source": [
    "# Here is a dictionary that translates between codons in a DNA sequence and amino acids\n",
    "gencode = {\n",
    "    'ATA':'I', 'ATC':'I', 'ATT':'I', 'ATG':'M',\n",
    "    'ACA':'T', 'ACC':'T', 'ACG':'T', 'ACT':'T',\n",
    "    'AAC':'N', 'AAT':'N', 'AAA':'K', 'AAG':'K',\n",
    "    'AGC':'S', 'AGT':'S', 'AGA':'R', 'AGG':'R',\n",
    "    'CTA':'L', 'CTC':'L', 'CTG':'L', 'CTT':'L',\n",
    "    'CCA':'P', 'CCC':'P', 'CCG':'P', 'CCT':'P',\n",
    "    'CAC':'H', 'CAT':'H', 'CAA':'Q', 'CAG':'Q',\n",
    "    'CGA':'R', 'CGC':'R', 'CGG':'R', 'CGT':'R',\n",
    "    'GTA':'V', 'GTC':'V', 'GTG':'V', 'GTT':'V',\n",
    "    'GCA':'A', 'GCC':'A', 'GCG':'A', 'GCT':'A',\n",
    "    'GAC':'D', 'GAT':'D', 'GAA':'E', 'GAG':'E',\n",
    "    'GGA':'G', 'GGC':'G', 'GGG':'G', 'GGT':'G',\n",
    "    'TCA':'S', 'TCC':'S', 'TCG':'S', 'TCT':'S',\n",
    "    'TTC':'F', 'TTT':'F', 'TTA':'L', 'TTG':'L',\n",
    "    'TAC':'Y', 'TAT':'Y', 'TAA':'_', 'TAG':'_',\n",
    "    'TGC':'C', 'TGT':'C', 'TGA':'_', 'TGG':'W'}\n",
    "\n",
    "# Translate your ending DNA sequence into an amino acid sequence\n",
    "# Make sure your sequence length is a multiple of 3!\n",
    "\n",
    "#Create a list of nucleotides from last sequence\n",
    "lastSeq=seqs[len(seqs)-1]\n",
    "#Create an integer variable whit the number of codons in the sequence\n",
    "codLen=int(seqLen/3)\n",
    "#Create 3 lists, with first, second and third positions, respectively\n",
    "a=lastSeq[0:seqLen:3]\n",
    "b=lastSeq[1:seqLen:3]\n",
    "c=lastSeq[2:seqLen:3]\n",
    "#Create an empty list that will store triplets\n",
    "cod=[]\n",
    "#Generate all triplets (first position of \"a\",\"b\" and \"c\" lists, second positions, etc.)\n",
    "#In each step, transform each triplet as a string and append it to the \"cod\" list\n",
    "for n in range(0,codLen):\n",
    "    abc=[]\n",
    "    abc.extend(a[n])\n",
    "    abc.extend(b[n])\n",
    "    abc.extend(c[n])\n",
    "    Mabc = \"\"\n",
    "    for m in abc:\n",
    "        Mabc += m\n",
    "    cod.append(Mabc)\n",
    "#Create a list, with the translated aa of each triplet (using dictionary \"genecode\")\n",
    "aa=[]\n",
    "for l in range(0,codLen):\n",
    "    preAA=gencode[cod[l]]\n",
    "    aa.append(preAA)\n",
    "#Print the transalated sequence as a string\n",
    "aaStr = \"\"\n",
    "for k in aa:\n",
    "    aaStr += k\n",
    "print(aaStr)"
   ]
  }
 ],
 "metadata": {
  "kernelspec": {
   "display_name": "Python 3",
   "language": "python",
   "name": "python3"
  },
  "language_info": {
   "codemirror_mode": {
    "name": "ipython",
    "version": 3
   },
   "file_extension": ".py",
   "mimetype": "text/x-python",
   "name": "python",
   "nbconvert_exporter": "python",
   "pygments_lexer": "ipython3",
   "version": "3.6.4"
  }
 },
 "nbformat": 4,
 "nbformat_minor": 4
}
