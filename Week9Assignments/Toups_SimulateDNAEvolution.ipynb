{
 "cells": [
  {
   "cell_type": "markdown",
   "metadata": {},
   "source": [
    "# Simulation of DNA Sequence Evolution"
   ]
  },
  {
   "cell_type": "markdown",
   "metadata": {},
   "source": [
    "In this assignment, we're going to write code to simulate the evolution of a DNA sequence through time, with one change at a site at each time step.\n",
    "\n",
    "AACGT -> AAGGT -> ATGGT -> ATGGC -> ...\n",
    "\n",
    "To do this, we'll need some functions from both the `random` and `copy` modules."
   ]
  },
  {
   "cell_type": "code",
   "execution_count": 41,
   "metadata": {},
   "outputs": [],
   "source": [
    "# Import needed modules\n",
    "import random\n",
    "import copy"
   ]
  },
  {
   "cell_type": "markdown",
   "metadata": {},
   "source": [
    "First, we'll need to create a random starting sequence."
   ]
  },
  {
   "cell_type": "code",
   "execution_count": 42,
   "metadata": {},
   "outputs": [],
   "source": [
    "# The four nucleotides\n",
    "nucs = [\"A\",\"C\",\"G\",\"T\"]"
   ]
  },
  {
   "cell_type": "code",
   "execution_count": 43,
   "metadata": {},
   "outputs": [],
   "source": [
    "# Length of sequence\n",
    "seqLen = 24\n",
    "\n",
    "# Use a for loop and random.choice() to create a random DNA sequence (startSeq) with length seqLen\n",
    "# startSeq should be a list\n",
    "\n",
    "\n",
    "\n",
    "# Code here..."
   ]
  },
  {
   "cell_type": "code",
   "execution_count": 44,
   "metadata": {},
   "outputs": [],
   "source": [
    "startSeq = []\n",
    "for _ in range(seqLen):\n",
    "    startSeq.append( random.choice(nucs) )"
   ]
  },
  {
   "cell_type": "code",
   "execution_count": 45,
   "metadata": {},
   "outputs": [],
   "source": [
    "# Set the number of time steps to simulate\n",
    "steps = 20"
   ]
  },
  {
   "cell_type": "code",
   "execution_count": 46,
   "metadata": {},
   "outputs": [],
   "source": [
    "# Create a list to hold the set of sequences from each time step in the simulation\n",
    "seqs = []\n",
    "seqs.append( startSeq )"
   ]
  },
  {
   "cell_type": "code",
   "execution_count": 47,
   "metadata": {},
   "outputs": [],
   "source": [
    "# Use a for loop to simulate changes to the sequence across time steps\n",
    "for _ in range(steps):\n",
    "    # Randomly pick an index in your sequence to change\n",
    "    # Code here...\n",
    "    select = random.randint(0,23)\n",
    "    \n",
    "    # Create a copy of the last sequence in seqs using copy.copy()\n",
    "    # Code here...\n",
    "    newSeq = copy.copy(seqs[-1])\n",
    "    # Draw a new nucleotide and make sure that it's different than what you started with\n",
    "    # Hint: a while loop would be very useful here\n",
    "    # Code here...\n",
    "    newNuc = random.choice(nucs)\n",
    "    while newNuc == newSeq[select]:\n",
    "        newNuc = random.choice(nucs)\n",
    "    # Update the randomly chosen position in the new sequence with the new nucleotide\n",
    "    # Code here...\n",
    "    newSeq[select] = newNuc\n",
    "    # Add the updated sequence to the seqs list\n",
    "    # Code here...\n",
    "    seqs.append(newSeq)"
   ]
  },
  {
   "cell_type": "code",
   "execution_count": 48,
   "metadata": {},
   "outputs": [
    {
     "name": "stdout",
     "output_type": "stream",
     "text": [
      "['T', 'T', 'A', 'C', 'C', 'A', 'G', 'A', 'T', 'T', 'T', 'T', 'C', 'A', 'C', 'T', 'A', 'T', 'T', 'A', 'A', 'A', 'A', 'T']\n",
      "['T', 'T', 'T', 'C', 'C', 'A', 'G', 'A', 'T', 'T', 'T', 'T', 'C', 'A', 'C', 'T', 'A', 'T', 'T', 'A', 'A', 'A', 'A', 'T']\n",
      "['T', 'T', 'T', 'C', 'C', 'A', 'G', 'A', 'T', 'T', 'T', 'T', 'C', 'A', 'C', 'T', 'A', 'T', 'C', 'A', 'A', 'A', 'A', 'T']\n",
      "['T', 'T', 'T', 'C', 'T', 'A', 'G', 'A', 'T', 'T', 'T', 'T', 'C', 'A', 'C', 'T', 'A', 'T', 'C', 'A', 'A', 'A', 'A', 'T']\n",
      "['T', 'T', 'T', 'C', 'T', 'A', 'G', 'A', 'T', 'T', 'T', 'T', 'C', 'A', 'C', 'T', 'T', 'T', 'C', 'A', 'A', 'A', 'A', 'T']\n",
      "['T', 'T', 'T', 'C', 'T', 'A', 'G', 'A', 'T', 'T', 'T', 'T', 'C', 'A', 'C', 'T', 'T', 'T', 'C', 'A', 'A', 'A', 'C', 'T']\n",
      "['T', 'T', 'T', 'C', 'T', 'A', 'G', 'A', 'T', 'T', 'T', 'T', 'C', 'A', 'C', 'T', 'T', 'T', 'C', 'T', 'A', 'A', 'C', 'T']\n",
      "['T', 'T', 'T', 'C', 'T', 'A', 'G', 'A', 'G', 'T', 'T', 'T', 'C', 'A', 'C', 'T', 'T', 'T', 'C', 'T', 'A', 'A', 'C', 'T']\n",
      "['T', 'T', 'T', 'C', 'T', 'A', 'G', 'A', 'G', 'T', 'T', 'T', 'C', 'A', 'C', 'T', 'C', 'T', 'C', 'T', 'A', 'A', 'C', 'T']\n",
      "['T', 'T', 'A', 'C', 'T', 'A', 'G', 'A', 'G', 'T', 'T', 'T', 'C', 'A', 'C', 'T', 'C', 'T', 'C', 'T', 'A', 'A', 'C', 'T']\n",
      "['T', 'T', 'A', 'C', 'T', 'A', 'G', 'A', 'A', 'T', 'T', 'T', 'C', 'A', 'C', 'T', 'C', 'T', 'C', 'T', 'A', 'A', 'C', 'T']\n",
      "['T', 'T', 'A', 'C', 'T', 'A', 'G', 'A', 'A', 'T', 'T', 'T', 'C', 'A', 'C', 'T', 'C', 'T', 'C', 'T', 'A', 'A', 'A', 'T']\n",
      "['T', 'T', 'A', 'C', 'T', 'A', 'G', 'A', 'A', 'T', 'T', 'T', 'C', 'A', 'C', 'T', 'C', 'T', 'G', 'T', 'A', 'A', 'A', 'T']\n",
      "['T', 'T', 'A', 'C', 'T', 'A', 'G', 'A', 'A', 'T', 'T', 'A', 'C', 'A', 'C', 'T', 'C', 'T', 'G', 'T', 'A', 'A', 'A', 'T']\n",
      "['T', 'T', 'A', 'C', 'T', 'A', 'G', 'A', 'A', 'T', 'T', 'A', 'C', 'A', 'C', 'T', 'T', 'T', 'G', 'T', 'A', 'A', 'A', 'T']\n",
      "['T', 'T', 'A', 'C', 'T', 'A', 'G', 'A', 'A', 'T', 'T', 'A', 'C', 'A', 'C', 'T', 'T', 'T', 'G', 'T', 'A', 'A', 'T', 'T']\n",
      "['T', 'T', 'A', 'C', 'T', 'A', 'G', 'A', 'A', 'T', 'T', 'A', 'C', 'A', 'C', 'T', 'T', 'T', 'G', 'T', 'A', 'C', 'T', 'T']\n",
      "['T', 'T', 'A', 'C', 'T', 'A', 'G', 'A', 'A', 'T', 'T', 'A', 'C', 'A', 'C', 'T', 'T', 'A', 'G', 'T', 'A', 'C', 'T', 'T']\n",
      "['T', 'T', 'A', 'C', 'T', 'A', 'G', 'A', 'G', 'T', 'T', 'A', 'C', 'A', 'C', 'T', 'T', 'A', 'G', 'T', 'A', 'C', 'T', 'T']\n",
      "['T', 'T', 'A', 'C', 'T', 'A', 'G', 'A', 'G', 'T', 'T', 'A', 'C', 'A', 'G', 'T', 'T', 'A', 'G', 'T', 'A', 'C', 'T', 'T']\n"
     ]
    }
   ],
   "source": [
    "# Print all sequences -- if needed, you can uncomment the code below\n",
    "for i in range(steps):\n",
    "    print(seqs[i])"
   ]
  },
  {
   "cell_type": "code",
   "execution_count": 49,
   "metadata": {},
   "outputs": [
    {
     "name": "stdout",
     "output_type": "stream",
     "text": [
      "TTACCAGATTTTCACTATTAAAAT\n",
      "TTACTAGGGTTACAGTTAGTACTT\n",
      "Hamming distance between first and last sequences is: 11\n"
     ]
    }
   ],
   "source": [
    "# Print the starting sequence as a string\n",
    "startSeqStr = \"\"\n",
    "for n in startSeq:\n",
    "    startSeqStr += n\n",
    "print(startSeqStr)\n",
    "\n",
    "# Print the ending sequence as a string\n",
    "lastSeqStr = \"\"\n",
    "for n in seqs[len(seqs)-1]:\n",
    "    lastSeqStr += n\n",
    "print(lastSeqStr)\n",
    "\n",
    "# Print the Hamming distance between the starting and ending sequences\n",
    "dist = 0\n",
    "for i in range( len(startSeq) ):\n",
    "    endSeq = seqs[len(seqs)-1]\n",
    "    if startSeq[i] != endSeq[i]:\n",
    "        dist += 1\n",
    "\n",
    "print( \"Hamming distance between first and last sequences is: \" + str(dist) )"
   ]
  },
  {
   "cell_type": "markdown",
   "metadata": {},
   "source": [
    "The Hamming distance between two sequences is simply the number of nucleotide positions at which they differ. What is the Hamming distance between your starting and ending sequences? How does this value compare if you re-run the simulation several times, first with a small number of steps and next with a much larger number of steps?\n",
    "\n",
    "Answer: With multiple simulations, the Hamming distance generally hangs around the same number plus or minus a few changes. With a smaller number of steps, the distance tends to increase, and with a larger number of steps the opposite is true."
   ]
  },
  {
   "cell_type": "code",
   "execution_count": 50,
   "metadata": {},
   "outputs": [
    {
     "name": "stdout",
     "output_type": "stream",
     "text": [
      "['L', 'L', 'G', 'L', 'Q', 'L', 'V', 'L']\n"
     ]
    }
   ],
   "source": [
    "# Here is a dictionary that translates between codons in a DNA sequence and amino acids\n",
    "gencode = {\n",
    "    'ATA':'I', 'ATC':'I', 'ATT':'I', 'ATG':'M',\n",
    "    'ACA':'T', 'ACC':'T', 'ACG':'T', 'ACT':'T',\n",
    "    'AAC':'N', 'AAT':'N', 'AAA':'K', 'AAG':'K',\n",
    "    'AGC':'S', 'AGT':'S', 'AGA':'R', 'AGG':'R',\n",
    "    'CTA':'L', 'CTC':'L', 'CTG':'L', 'CTT':'L',\n",
    "    'CCA':'P', 'CCC':'P', 'CCG':'P', 'CCT':'P',\n",
    "    'CAC':'H', 'CAT':'H', 'CAA':'Q', 'CAG':'Q',\n",
    "    'CGA':'R', 'CGC':'R', 'CGG':'R', 'CGT':'R',\n",
    "    'GTA':'V', 'GTC':'V', 'GTG':'V', 'GTT':'V',\n",
    "    'GCA':'A', 'GCC':'A', 'GCG':'A', 'GCT':'A',\n",
    "    'GAC':'D', 'GAT':'D', 'GAA':'E', 'GAG':'E',\n",
    "    'GGA':'G', 'GGC':'G', 'GGG':'G', 'GGT':'G',\n",
    "    'TCA':'S', 'TCC':'S', 'TCG':'S', 'TCT':'S',\n",
    "    'TTC':'F', 'TTT':'F', 'TTA':'L', 'TTG':'L',\n",
    "    'TAC':'Y', 'TAT':'Y', 'TAA':'_', 'TAG':'_',\n",
    "    'TGC':'C', 'TGT':'C', 'TGA':'_', 'TGG':'W'}\n",
    "\n",
    "# Translate your ending DNA sequence into an amino acid sequence\n",
    "# Make sure your sequence length is a multiple of 3!\n",
    "\n",
    "# Code here...\n",
    "from textwrap import wrap\n",
    "aminos = []\n",
    "if len(lastSeqStr) % 3 == 0:\n",
    "    codons = wrap(lastSeqStr, 3)\n",
    "    for i in codons:\n",
    "        aminos.append(gencode[i])\n",
    "else:\n",
    "    print(\"Sequence length error\")\n",
    "print(aminos)\n"
   ]
  },
  {
   "cell_type": "code",
   "execution_count": null,
   "metadata": {},
   "outputs": [],
   "source": []
  }
 ],
 "metadata": {
  "kernelspec": {
   "display_name": "Python 3",
   "language": "python",
   "name": "python3"
  },
  "language_info": {
   "codemirror_mode": {
    "name": "ipython",
    "version": 3
   },
   "file_extension": ".py",
   "mimetype": "text/x-python",
   "name": "python",
   "nbconvert_exporter": "python",
   "pygments_lexer": "ipython3",
   "version": "3.6.4"
  }
 },
 "nbformat": 4,
 "nbformat_minor": 4
}
