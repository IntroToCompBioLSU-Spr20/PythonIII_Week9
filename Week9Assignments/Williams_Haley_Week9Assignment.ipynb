{
 "cells": [
  {
   "cell_type": "code",
   "execution_count": null,
   "metadata": {},
   "outputs": [],
   "source": [
    "# Import needed modules\n",
    "import random\n",
    "import copy"
   ]
  },
  {
   "cell_type": "code",
   "execution_count": null,
   "metadata": {},
   "outputs": [],
   "source": [
    "# The four nucleotides\n",
    "nucs = [\"A\",\"C\",\"G\",\"T\"]"
   ]
  },
  {
   "cell_type": "code",
   "execution_count": null,
   "metadata": {},
   "outputs": [],
   "source": [
    "# Length of sequence\n",
    "seqLen = 24\n",
    "\n",
    "# Use a for loop and random.choice() to create a random DNA sequence (startSeq) with length seqLen\n",
    "# startSeq should be a list\n",
    "\n"
   ]
  },
  {
   "cell_type": "code",
   "execution_count": null,
   "metadata": {},
   "outputs": [],
   "source": [
    "startSeq = []\n",
    "for i in range(seqLen):\n",
    "    startSeq.append( random.choice(nucs) )"
   ]
  },
  {
   "cell_type": "code",
   "execution_count": null,
   "metadata": {},
   "outputs": [],
   "source": [
    "# Set the number of time steps to simulate\n",
    "steps = 20"
   ]
  },
  {
   "cell_type": "code",
   "execution_count": null,
   "metadata": {},
   "outputs": [],
   "source": [
    "# Create a list to hold the set of sequences from each time step in the simulation\n",
    "seqs = []\n",
    "seqs.append(copy.copy(startSeq))\n",
    "print(seqs)"
   ]
  },
  {
   "cell_type": "code",
   "execution_count": null,
   "metadata": {},
   "outputs": [],
   "source": [
    "# Use a for loop to simulate changes to the sequence across time steps\n",
    "for seq in range(steps):\n",
    "    # Randomly pick an index in your sequence to change\n",
    "    # Code here...\n",
    "    randomNuc= random.choice(range(seqLen))\n",
    "    # Create a copy of the last sequence in seqs using copy.copy()\n",
    "    # Code here...\n",
    "    seqCopy=copy.copy(seqs[len(seqs)-1]\n",
    "    # Draw a new nucleotide and make sure that it's different than what you started with\n",
    "    # Hint: a while loop would be very useful here\n",
    "    # Code here\n",
    "    \n",
    "    #This while loop picks a random nucleotide and then changes the nucleotide if it matches the one in the random index. The while loop stops if they are different.\n",
    "    newNuc=random.choice(nucs)\n",
    "    while newNuc == seqCopy[randomNuc]:\n",
    "        newNuc = random.choice(nucs)\n",
    "    # Update the randomly chosen position in the new sequence with the new nucleotide\n",
    "    # Code here...\n",
    "    seqCopy[randomNuc] = newNuc\n",
    "    # Add the updated sequence to the seqs list\n",
    "    # Code here...\n",
    "    seqs.append(seqCopy)"
   ]
  },
  {
   "cell_type": "code",
   "execution_count": null,
   "metadata": {},
   "outputs": [],
   "source": [
    "# Print all sequences -- if needed, you can uncomment the code below\n",
    "for i in range(steps):\n",
    "    print(seqs[i])"
   ]
  },
  {
   "cell_type": "code",
   "execution_count": null,
   "metadata": {},
   "outputs": [],
   "source": [
    "# Print the starting sequence as a string\n",
    "startSeqStr = \"\"\n",
    "for n in startSeq:\n",
    "    startSeqStr += n\n",
    "print(startSeqStr)\n",
    "\n",
    "# Print the ending sequence as a string\n",
    "lastSeqStr = \"\"\n",
    "for n in seqs[len(seqs)-1]:\n",
    "    lastSeqStr += n\n",
    "print(lastSeqStr)\n",
    "\n",
    "# Print the Hamming distance between the starting and ending sequences\n",
    "dist = 0\n",
    "for i in range( len(startSeq) ):\n",
    "    endSeq = seqs[len(seqs)-1]\n",
    "    if startSeq[i] != endSeq[i]:\n",
    "        dist += 1\n",
    "\n",
    "print( \"Hamming distance between first and last sequences is: \" + str(dist) )"
   ]
  },
  {
   "cell_type": "code",
   "execution_count": 1,
   "metadata": {},
   "outputs": [
    {
     "ename": "NameError",
     "evalue": "name 'lastSeqStr' is not defined",
     "output_type": "error",
     "traceback": [
      "\u001b[0;31m---------------------------------------------------------------------------\u001b[0m",
      "\u001b[0;31mNameError\u001b[0m                                 Traceback (most recent call last)",
      "\u001b[0;32m<ipython-input-1-0d0e16b9c372>\u001b[0m in \u001b[0;36m<module>\u001b[0;34m()\u001b[0m\n\u001b[1;32m     25\u001b[0m \u001b[0maaSeq\u001b[0m \u001b[0;34m=\u001b[0m \u001b[0;34m\"\"\u001b[0m\u001b[0;34m\u001b[0m\u001b[0m\n\u001b[1;32m     26\u001b[0m \u001b[0;31m#This if statement checks if the lenghth is a multiple of 3.\u001b[0m\u001b[0;34m\u001b[0m\u001b[0;34m\u001b[0m\u001b[0m\n\u001b[0;32m---> 27\u001b[0;31m \u001b[0;32mif\u001b[0m \u001b[0mlen\u001b[0m\u001b[0;34m(\u001b[0m\u001b[0mlastSeqStr\u001b[0m\u001b[0;34m)\u001b[0m\u001b[0;34m%\u001b[0m\u001b[0;36m3\u001b[0m \u001b[0;34m==\u001b[0m \u001b[0;36m0\u001b[0m\u001b[0;34m:\u001b[0m\u001b[0;34m\u001b[0m\u001b[0m\n\u001b[0m\u001b[1;32m     28\u001b[0m     \u001b[0;31m#every 3 nucleotides\u001b[0m\u001b[0;34m\u001b[0m\u001b[0;34m\u001b[0m\u001b[0m\n\u001b[1;32m     29\u001b[0m     \u001b[0;32mfor\u001b[0m \u001b[0mi\u001b[0m \u001b[0;32min\u001b[0m \u001b[0mrange\u001b[0m\u001b[0;34m(\u001b[0m\u001b[0;36m0\u001b[0m\u001b[0;34m,\u001b[0m\u001b[0mlen\u001b[0m\u001b[0;34m(\u001b[0m\u001b[0mlastSeqStr\u001b[0m\u001b[0;34m)\u001b[0m\u001b[0;34m,\u001b[0m\u001b[0;36m3\u001b[0m\u001b[0;34m)\u001b[0m\u001b[0;34m:\u001b[0m\u001b[0;34m\u001b[0m\u001b[0m\n",
      "\u001b[0;31mNameError\u001b[0m: name 'lastSeqStr' is not defined"
     ]
    }
   ],
   "source": [
    "# Here is a dictionary that translates between codons in a DNA sequence and amino acids\n",
    "gencode = {\n",
    "    'ATA':'I', 'ATC':'I', 'ATT':'I', 'ATG':'M',\n",
    "    'ACA':'T', 'ACC':'T', 'ACG':'T', 'ACT':'T',\n",
    "    'AAC':'N', 'AAT':'N', 'AAA':'K', 'AAG':'K',\n",
    "    'AGC':'S', 'AGT':'S', 'AGA':'R', 'AGG':'R',\n",
    "    'CTA':'L', 'CTC':'L', 'CTG':'L', 'CTT':'L',\n",
    "    'CCA':'P', 'CCC':'P', 'CCG':'P', 'CCT':'P',\n",
    "    'CAC':'H', 'CAT':'H', 'CAA':'Q', 'CAG':'Q',\n",
    "    'CGA':'R', 'CGC':'R', 'CGG':'R', 'CGT':'R',\n",
    "    'GTA':'V', 'GTC':'V', 'GTG':'V', 'GTT':'V',\n",
    "    'GCA':'A', 'GCC':'A', 'GCG':'A', 'GCT':'A',\n",
    "    'GAC':'D', 'GAT':'D', 'GAA':'E', 'GAG':'E',\n",
    "    'GGA':'G', 'GGC':'G', 'GGG':'G', 'GGT':'G',\n",
    "    'TCA':'S', 'TCC':'S', 'TCG':'S', 'TCT':'S',\n",
    "    'TTC':'F', 'TTT':'F', 'TTA':'L', 'TTG':'L',\n",
    "    'TAC':'Y', 'TAT':'Y', 'TAA':'_', 'TAG':'_',\n",
    "    'TGC':'C', 'TGT':'C', 'TGA':'_', 'TGG':'W'}\n",
    "\n",
    "# Translate your ending DNA sequence into an amino acid sequence\n",
    "# Make sure your sequence length is a multiple of 3!\n",
    "\n",
    "# Code here...\n",
    "#Converts amino acid sequence to a string\n",
    "aaSeq = \"\"\n",
    "#This if statement checks if the lenghth is a multiple of 3.\n",
    "if len(lastSeqStr)%3 == 0:\n",
    "    #every 3 nucleotides\n",
    "    for i in range(0,len(lastSeqStr),3):\n",
    "        #creates variable for every 3 nucleotides\n",
    "        codon = lastSeqStr [i:i+3]\n",
    "        #Finds value from dictionary that matches the codon and adds it to the amino acid sequence.\n",
    "        aaSeq += genecode.get(codon)\n",
    "        print(aaSeq)\n",
    "else:\n",
    "    print(\"The seqeunce is not divisible by 3.\")\n",
    "        \n"
   ]
  },
  {
   "cell_type": "code",
   "execution_count": null,
   "metadata": {},
   "outputs": [],
   "source": [
    "#Answer: The distance from my first run is 8. The results of the next runs were 8,7,7,9,10,7,9,9"
   ]
  }
 ],
 "metadata": {
  "kernelspec": {
   "display_name": "Python 3",
   "language": "python",
   "name": "python3"
  },
  "language_info": {
   "codemirror_mode": {
    "name": "ipython",
    "version": 3
   },
   "file_extension": ".py",
   "mimetype": "text/x-python",
   "name": "python",
   "nbconvert_exporter": "python",
   "pygments_lexer": "ipython3",
   "version": "3.6.4"
  }
 },
 "nbformat": 4,
 "nbformat_minor": 2
}
